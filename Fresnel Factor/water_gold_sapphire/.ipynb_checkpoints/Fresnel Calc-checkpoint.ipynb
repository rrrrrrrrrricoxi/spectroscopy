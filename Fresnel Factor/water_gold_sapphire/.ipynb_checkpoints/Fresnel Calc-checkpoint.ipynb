{
 "cells": [
  {
   "cell_type": "code",
   "execution_count": 543,
   "metadata": {},
   "outputs": [],
   "source": [
    "import os\n",
    "from matplotlib import pyplot as plt\n",
    "import numpy as np\n",
    "import time as tm"
   ]
  },
  {
   "cell_type": "code",
   "execution_count": 729,
   "metadata": {},
   "outputs": [],
   "source": [
    "path = '/Users/ricoxi/Desktop/Coding/Fresnel Factor/'\n",
    "os.chdir(path)\n",
    "import import_ipynb\n",
    "from extract_data import mylib"
   ]
  },
  {
   "cell_type": "code",
   "execution_count": 760,
   "metadata": {},
   "outputs": [],
   "source": [
    "def to_wn(value):\n",
    "    wn = 10 ** 7 / value\n",
    "    return wn\n",
    "\n",
    "def to_wl(value):\n",
    "    wl = 10 ** 7 / value\n",
    "    return wl\n",
    "\n",
    "def to_rad(value):\n",
    "    rad = value * np.pi /180\n",
    "    return rad\n",
    "\n",
    "def to_degree(value):\n",
    "    degree = value * 180 / np.pi\n",
    "    return degree\n",
    "\n",
    "def sfg_angle(ir, vis, ir_a, vis_a):\n",
    "    theta = np.arctan((ir * np.sin(ir_a) + vis * np.sin(vis_a))/(\n",
    "    ir * np.cos(ir_a) + vis * np.cos(vis_a)))\n",
    "    return theta\n",
    "\n",
    "def theta_1(n_1, gamma):\n",
    "    θ = np.pi / 3 - np.arcsin(1 / n_1 * np.sin(np.pi / 3 - gamma))\n",
    "    return θ\n",
    "\n",
    "def refract(θ_i, ind_i, ind_j):\n",
    "    cos_theta_j = np.sqrt(1 - (ind_i * ind_i.conjugate()) / (ind_j * ind_j.conjugate()) * (np.sin(θ_i) ** 2))\n",
    "    theta_j = np.arccos(cos_theta_j)\n",
    "    return theta_j "
   ]
  },
  {
   "cell_type": "code",
   "execution_count": 798,
   "metadata": {},
   "outputs": [],
   "source": [
    "# list of IR wn of which the final output will be plotted against\n",
    "IR_wn = [mylib.m1_ir[i][0] for i in range(len(mylib.m1_ir))]\n",
    "IR_wl = [to_wl(mylib.m1_ir[i][0]) for i in range(len(mylib.m1_ir))]\n",
    "# visible beam centered at\n",
    "vis_wl = 800.\n",
    "vis_wn = to_wn(vis_wl)\n",
    "# list of sfg wn\n",
    "sfg_wn = [IR_wn[i] + vis_wn for i in range(len(IR_wn))]\n",
    "sfg_wl = [to_wn(i) for i in sfg_wn]\n",
    "# thickness of gold\n",
    "d_gold = 5\n",
    "'''\n",
    "input IR and vis 𝜸 angles here\n",
    "'''\n",
    "𝜸 = 60\n",
    "𝜸_1_IR  = to_rad(𝜸)\n",
    "𝜸_1_vis = to_rad(𝜸)"
   ]
  },
  {
   "cell_type": "code",
   "execution_count": 799,
   "metadata": {},
   "outputs": [],
   "source": [
    "'''\n",
    "m1 = SAPPHIRE\n",
    "m2 = GOLD\n",
    "m3 = WATER\n",
    "'''\n",
    "\n",
    "ind_1_IR = [complex(i[1],i[2]) for i in mylib.m1_ir]\n",
    "ind_2_IR = [complex(i[1],i[2]) for i in mylib.m2_ir]\n",
    "ind_3_IR = [complex(i[1],i[2]) for i in mylib.m3_ir]\n",
    "\n",
    "ind_1_vis = complex(mylib.m1_vis[1],mylib.m1_vis[2])\n",
    "ind_2_vis = complex(mylib.m2_vis[1],mylib.m2_vis[2])\n",
    "ind_3_vis = complex(mylib.m3_vis[1],mylib.m3_vis[2])\n",
    "\n",
    "ind_1_sfg = [complex(i[1],i[2]) for i in mylib.m1_sfg]\n",
    "ind_2_sfg = [complex(i[1],i[2]) for i in mylib.m2_sfg]\n",
    "ind_3_sfg = [complex(i[1],i[2]) for i in mylib.m3_sfg]"
   ]
  },
  {
   "cell_type": "code",
   "execution_count": 800,
   "metadata": {},
   "outputs": [],
   "source": [
    "'''\n",
    "All the angles in the world\n",
    "'''\n",
    "θ_1_IR = [theta_1(i, 𝜸_1_IR) for i in ind_1_IR]\n",
    "θ_2_IR = [refract(i[0], i[1], i[2]) for i in zip(θ_1_IR, ind_1_IR, ind_2_IR)]\n",
    "θ_3_IR = [refract(i[0], i[1], i[2]) for i in zip(θ_2_IR, ind_2_IR, ind_3_IR)]\n",
    "\n",
    "θ_1_vis = theta_1(ind_1_vis, 𝜸_1_vis)\n",
    "θ_2_vis = refract(θ_1_vis, ind_1_vis, ind_2_vis)\n",
    "θ_3_vis = refract(θ_2_vis, ind_2_vis, ind_3_vis)\n",
    "\n",
    "θ_1_sfg = [sfg_angle(i[0], vis_wn, i[1], θ_1_vis) for i in zip(IR_wn, θ_1_IR)]\n",
    "θ_2_sfg = [refract(i[0], i[1], i[2]) for i in zip(θ_1_sfg, ind_1_sfg, ind_2_sfg)]"
   ]
  },
  {
   "cell_type": "code",
   "execution_count": 801,
   "metadata": {},
   "outputs": [],
   "source": [
    "def r_ij_p(n_i, n_j, theta_i, theta_j):\n",
    "    r = (n_j * np.cos(theta_i) - n_i * np.cos(theta_j)) / (n_j * np.cos(theta_i) + n_i * np.cos(theta_j))\n",
    "    return r\n",
    "\n",
    "def r_ij_s(n_i, n_j, theta_i, theta_j):\n",
    "    r = (n_i * np.cos(theta_i) - n_j * np.cos(theta_j)) / (n_i * np.cos(theta_i) + n_j * np.cos(theta_j))\n",
    "    return r\n",
    "\n",
    "def t_ij_p(n_i, n_j, theta_i, theta_j):\n",
    "    t = (2 * n_i * np.cos(theta_i)) / (n_j * np.cos(theta_i) + n_i * np.cos(theta_j))\n",
    "    return t\n",
    "\n",
    "def t_ij_s(n_i, n_j, theta_i, theta_j):\n",
    "    t = (2 * n_i * np.cos(theta_i)) / (n_i * np.cos(theta_i) + n_j * np.cos(theta_j))\n",
    "    return t\n",
    "\n",
    "# =========================================== #\n",
    "def beta(wavelength, n_2, thickness, theta_2):\n",
    "    β = 2 * np.pi / wavelength * n_2 * thickness * np.cos(theta_2)\n",
    "    return β\n",
    "\n",
    "def delta_ir(ir_wl, vis_wl, n_1_ir, n_2_ir, thickness, theta_1_ir, theta_2_ir, theta_2_sfg):\n",
    "    Δ = (2 * np.pi * n_2_ir * thickness) / (ir_wl * np.cos(theta_2_ir)) - (2 * np.pi * n_1_ir * thickness) / vis_wl * (np.tan(theta_2_ir) + np.tan(theta_2_sfg)) * np.sin(theta_1_ir)\n",
    "    return Δ\n",
    "\n",
    "# =========================================== #\n",
    "def L_II_xx(delta, t_12_p, r_12_p, r_23_p, beta, theta_2, theta_1):\n",
    "    L = np.e ** (1j * delta) * (t_12_p) / (1 + r_12_p * r_23_p * np.e **(2 * 1j * beta)) * (1 - r_23_p) * np.cos(theta_2) / np.cos(theta_1)\n",
    "    return L\n",
    "\n",
    "# =========================================== #\n",
    "def check(r, t, n_1, theta_1, n_2, theta_2):\n",
    "    R = r * r.conjugate()\n",
    "    T = t * t.conjugate() * (n_2 * np.cos(theta_2)) / (n_1 * np.cos(theta_1))\n",
    "    return T + R"
   ]
  },
  {
   "cell_type": "code",
   "execution_count": 802,
   "metadata": {},
   "outputs": [],
   "source": [
    "β_ir = [beta(i[0], i[1], d_gold, i[2]) for i in zip(IR_wl, ind_2_IR, θ_2_IR)]\n",
    "\n",
    "Δ_ir = [delta_ir(i[0], vis_wl, i[1], i[2], d_gold, i[3], i[4], i[5])\n",
    "       for i in zip(IR_wl, ind_1_IR, ind_2_IR, θ_1_IR, θ_2_IR, θ_2_sfg)]\n",
    "\n",
    "# =========================================== #\n",
    "r_12_p_ir = [r_ij_p(i[0], i[1], i[2], i[3]) \n",
    "             for i in zip(ind_1_IR, ind_2_IR, θ_1_IR, θ_2_IR)]\n",
    "t_12_p_ir = [t_ij_p(i[0], i[1], i[2], i[3]) \n",
    "             for i in zip(ind_1_IR, ind_2_IR, θ_1_IR, θ_2_IR)]\n",
    "r_23_p_ir = [r_ij_p(i[0], i[1], i[2], i[3]) \n",
    "             for i in zip(ind_2_IR, ind_3_IR, θ_2_IR, θ_3_IR)]\n",
    "\n",
    "# =========================================== #\n",
    "L_II_xx_ir = [L_II_xx(i[0],i[1],i[2],i[3],i[4],i[5],i[6]) \n",
    "              for i in zip(Δ_ir, t_12_p_ir, r_12_p_ir, r_23_p_ir, β_ir, θ_2_IR, θ_1_IR)]\n",
    "L_II_xx_ir_sq = [i * i.conjugate() for i in L_II_xx_ir]"
   ]
  },
  {
   "cell_type": "code",
   "execution_count": 803,
   "metadata": {},
   "outputs": [
    {
     "name": "stdout",
     "output_type": "stream",
     "text": [
      "\n",
      "Input gamma is 60 degrees.\n",
      "\n"
     ]
    },
    {
     "data": {
      "image/png": "[encoded data removed]",
      "text/plain": [
       "<Figure size 432x288 with 1 Axes>"
      ]
     },
     "metadata": {
      "needs_background": "light"
     },
     "output_type": "display_data"
    }
   ],
   "source": [
    "plt.figure(figsize=(6,4))\n",
    "plt.plot(IR_wn, [i.real for i in L_II_xx_ir_sq], linewidth = 2.5)\n",
    "plt.ylim(0, 4)\n",
    "plt.ylabel('$|L\\u2093\\u2093|^2$', fontsize=14)\n",
    "plt.xlabel('wn [cm-1]',fontsize=14)\n",
    "plt.xlim(2700,3900)\n",
    "plt.title('\\nIR Fresnel factor for H\\u2082O\\n')\n",
    "print(f'\\nInput gamma is {𝜸} degrees.\\n')"
   ]
  },
  {
   "cell_type": "code",
   "execution_count": 791,
   "metadata": {},
   "outputs": [],
   "source": [
    "check_12_ir = [check(i[0], i[1], i[2], i[3], i[4], i[5]) for i in zip(r_12_p_ir, t_12_p_ir, ind_1_IR, θ_1_IR, ind_2_IR, θ_2_IR)]"
   ]
  },
  {
   "cell_type": "code",
   "execution_count": 721,
   "metadata": {},
   "outputs": [
    {
     "data": {
      "text/plain": [
       "[(1.0405008572060133-0.004092005737126091j),\n",
       " (1.0405040087843729-0.00408056412032515j),\n",
       " (1.0405071931869692-0.00406921567064594j),\n",
       " (1.0405103952295554-0.00405796098491972j),\n",
       " (1.0405136019737804-0.00404680045267606j),\n",
       " (1.0405168024891707-0.004035734274945633j),\n",
       " (1.040518397492523-0.004030236584738332j),\n",
       " (1.0405199876430387-0.004024762482144668j),\n",
       " (1.0405215720459402-0.004019311947047325j),\n",
       " (1.040523149895154-0.004013884950722462j),\n",
       " (1.040526283117454-0.004003101419041107j),\n",
       " (1.040529382421094-0.003992411501924094j),\n",
       " (1.0405324440049335-0.00398181470454883j),\n",
       " (1.0405339597258696-0.003976551044322576j),\n",
       " (1.0405354650113356-0.003971310435307597j),\n",
       " (1.0405384433965135-0.003960898017725419j),\n",
       " (1.040541377814028-0.003950576701636123j),\n",
       " (1.0405471122169436-0.0039302040661014686j),\n",
       " (1.0405526675960532-0.00391018542640928j),\n",
       " (1.0405553794828681-0.003900306465907087j),\n",
       " (1.040558048691175-0.0038905130834640733j),\n",
       " (1.040560676312088-0.0038808042607614245j),\n",
       " (1.0405632635409403-0.0038711789681634616j),\n",
       " (1.0405658116316663-0.003861636170036215j),\n",
       " (1.040568321873008-0.00385217482908463j),\n",
       " (1.0405707955490424-0.0038427939102797693j),\n",
       " (1.0405732339209852-0.003833492384435141j),\n",
       " (1.0405756382065003-0.0038242692313418354j),\n",
       " (1.040578009566534-0.003815123442395268j),\n",
       " (1.0405803490874883-0.003806054022803994j),\n",
       " (1.040582657776867-0.0037970599935492817j),\n",
       " (1.040584936559541-0.0037881403930456765j),\n",
       " (1.040587186268845-0.0037792942784086333j),\n",
       " (1.0405894076507904-0.0037705207263969993j),\n",
       " (1.0405916013597425-0.003761818834095508j),\n",
       " (1.0405937679679746-0.0037531877197173854j),\n",
       " (1.0405959079603035-0.0037446265223513376j),\n",
       " (1.040598021748329-0.0037361344027472807j),\n",
       " (1.0406021720039347-0.0037193541444245854j),\n",
       " (1.040606220714914-0.0037028406475457455j),\n",
       " (1.0406101690583982-0.0036865879347153185j),\n",
       " (1.0406140176631933-0.0036705903272969127j),\n",
       " (1.0406177668357766-0.003654842419441223j),\n",
       " (1.0406214167915215-0.0036393390490557166j),\n",
       " (1.040624967840839-0.0036240752671326407j),\n",
       " (1.0406284205443592-0.0036090463068668465j),\n",
       " (1.040635035061766-0.0035796745165626773j),\n",
       " (1.0406412731885661-0.0035511880977747144j),\n",
       " (1.0406442571041568-0.003537266140874988j),\n",
       " (1.040647154893188-0.0035235527163258672j),\n",
       " (1.0406499698737752-0.0035100436397453704j),\n",
       " (1.040652705487969-0.0034967347522791245j),\n",
       " (1.0406553651889512-0.0034836219173996993j),\n",
       " (1.0406617035203432-0.0034516706412578155j),\n",
       " (1.0406676304438442-0.003420855733493937j),\n",
       " (1.04067316996804-0.0033911158792969544j),\n",
       " (1.0406783232320267-0.0033623929762431008j),\n",
       " (1.0406830716936777-0.00333463331462798j),\n",
       " (1.0406873872399742-0.003307788371699396j),\n",
       " (1.040691246696796-0.0032818149072509346j),\n",
       " (1.0406946466930223-0.003256674166110308j),\n",
       " (1.040697613414511-0.0032323301805366215j),\n",
       " (1.0407002021223224-0.003208747394324197j),\n",
       " (1.0407024828263682-0.0031858881319375403j),\n",
       " (1.0407045125616996-0.003163710770874641j),\n",
       " (1.0407063017196196-0.003142169870946888j),\n",
       " (1.0407077922619064-0.003121219936910106j),\n",
       " (1.0407088805625944-0.0031008249543116023j),\n",
       " (1.0407091889662399-0.0030928189106328376j),\n",
       " (1.0407094333584985-0.003084901151452559j),\n",
       " (1.0407095377446416-0.0030809763224834727j),\n",
       " (1.0407096357104404-0.0030770749618995075j),\n",
       " (1.0407096840256531-0.0030751333153198417j),\n",
       " (1.0407097330410244-0.0030731978375621873j),\n",
       " (1.040709783736411-0.003071268651941541j),\n",
       " (1.0407098372178574-0.0030693458937630955j),\n",
       " (1.040710106092376-0.003061722308571322j),\n",
       " (1.0407118834198719-0.0030432126492109892j)]"
      ]
     },
     "execution_count": 721,
     "metadata": {},
     "output_type": "execute_result"
    }
   ],
   "source": [
    "# thin film limit should go to 1 for e^(-i*beta)\n",
    "[np.e ** (-1j * i) for i in β_ir]"
   ]
  },
  {
   "cell_type": "code",
   "execution_count": null,
   "metadata": {},
   "outputs": [],
   "source": []
  }
 ],
 "metadata": {
  "kernelspec": {
   "display_name": "Python 3",
   "language": "python",
   "name": "python3"
  },
  "language_info": {
   "codemirror_mode": {
    "name": "ipython",
    "version": 3
   },
   "file_extension": ".py",
   "mimetype": "text/x-python",
   "name": "python",
   "nbconvert_exporter": "python",
   "pygments_lexer": "ipython3",
   "version": "3.7.6"
  }
 },
 "nbformat": 4,
 "nbformat_minor": 4
}
