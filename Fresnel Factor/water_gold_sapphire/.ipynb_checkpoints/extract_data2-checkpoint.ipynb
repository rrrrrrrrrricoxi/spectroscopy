{
 "cells": [
  {
   "cell_type": "code",
   "execution_count": 132,
   "metadata": {},
   "outputs": [],
   "source": [
    "import os\n",
    "from matplotlib import pyplot as plt\n",
    "import numpy as np\n",
    "import time as tm\n",
    "import warnings"
   ]
  },
  {
   "cell_type": "code",
   "execution_count": 133,
   "metadata": {},
   "outputs": [],
   "source": [
    "folder_name = 'Data Input'\n",
    "path = f'/Users/ricoxi/Desktop/Coding/Fresnel Factor/{folder_name}'"
   ]
  },
  {
   "cell_type": "code",
   "execution_count": 134,
   "metadata": {},
   "outputs": [
    {
     "name": "stdout",
     "output_type": "stream",
     "text": [
      "Working path changed to \n",
      "/Users/ricoxi/Desktop/Coding/Fresnel Factor/Data Input\n"
     ]
    }
   ],
   "source": [
    "os.chdir(path)\n",
    "print('Working path changed to \\n' + os.getcwd())"
   ]
  },
  {
   "cell_type": "code",
   "execution_count": 135,
   "metadata": {},
   "outputs": [
    {
     "name": "stdout",
     "output_type": "stream",
     "text": [
      "Working data files: \n",
      "\n",
      "\tsapphire_optical.txt\n",
      "\tgold_optical.txt\n",
      "\twater_optical.txt\n"
     ]
    }
   ],
   "source": [
    "files = os.listdir()\n",
    "data_files = []\n",
    "for i in files:\n",
    "    if '.txt' in i:\n",
    "        data_files.append(i)\n",
    "print('Working data files: \\n')\n",
    "for i in data_files:\n",
    "    print('\\t'+i)"
   ]
  },
  {
   "cell_type": "code",
   "execution_count": 136,
   "metadata": {},
   "outputs": [],
   "source": [
    "def to_wn(value):\n",
    "    wn = 10 ** 7 / value\n",
    "    return wn\n",
    "\n",
    "def to_wl(value):\n",
    "    wl = 10 ** 7 / value\n",
    "    return wl"
   ]
  },
  {
   "cell_type": "code",
   "execution_count": 137,
   "metadata": {},
   "outputs": [
    {
     "name": "stdout",
     "output_type": "stream",
     "text": [
      "Water optical constants are appended in the list \"water\".\n",
      "Sapphire optical constants are appended in the list \"sapphire\".\n",
      "Gold optical constants are appended in the list \"gold\".\n"
     ]
    }
   ],
   "source": [
    "# Appending water optical constants...\n",
    "\n",
    "wn_water = []\n",
    "# this is n\n",
    "n_water = []\n",
    "# this is k\n",
    "k_water = []\n",
    "\n",
    "with open('water_optical.txt', 'r') as f:\n",
    "    for line in f.readlines()[1:]:\n",
    "        field = line.split(' ')\n",
    "        wn_water.append(float(field[0]))\n",
    "        wn_water.append(float(field[5]))\n",
    "        n_water.append(float(field[2]))\n",
    "        n_water.append(float(field[7]))\n",
    "        k_water.append(float(field[1]))\n",
    "        k_water.append(float(field[6]))\n",
    "\n",
    "# this is a list tuple containing wavenumbers \n",
    "# and their corresponding n,k values\n",
    "water = [(wn_water[i],n_water[i],k_water[i]) for i in np.arange(len(wn_water))]\n",
    "water.sort(key = lambda x: x[0])\n",
    "print('Water optical constants are appended in the list \"water\".')\n",
    "\n",
    "# Appending sapphire optical constants...\n",
    "\n",
    "wl_um = []\n",
    "n_sapphire = []\n",
    "with open('sapphire_optical.txt') as f:\n",
    "    for line in f.readlines():\n",
    "        field = line.split('\\t')\n",
    "        wl_um.append(float(field[0]))\n",
    "        n_sapphire.append(float(field[1]))\n",
    "\n",
    "wl_nm = [i * 1000 for i in wl_um]\n",
    "wn_sapphire = [to_wn(i) for i in wl_nm]\n",
    "# This is a list tuple containing sapphire's optical constants\n",
    "sapphire = [(wn_sapphire[i], n_sapphire[i]) for i in np.arange(len(wn_sapphire))]\n",
    "sapphire.sort(key = lambda x: x[0])\n",
    "print('Sapphire optical constants are appended in the list \"sapphire\".')\n",
    "\n",
    "# Appending gold optical constants...\n",
    "\n",
    "wl_um = []\n",
    "n_gold = []\n",
    "k_gold = []\n",
    "with open('gold_optical.txt') as f:\n",
    "    for line in f.readlines():\n",
    "        field = line.split('\\t')\n",
    "        wl_um.append(float(field[0]))\n",
    "        n_gold.append(float(field[1]))\n",
    "        k_gold.append(float(field[2]))\n",
    "\n",
    "wl_nm = [i * 1000 for i in wl_um]\n",
    "wn_gold = [to_wn(i) for i in wl_nm]\n",
    "gold = [(wn_gold[i],n_gold[i],k_gold[i]) for i in np.arange(len(wn_gold))]\n",
    "gold.sort(key = lambda x: x[0])\n",
    "print('Gold optical constants are appended in the list \"gold\".')"
   ]
  },
  {
   "cell_type": "code",
   "execution_count": 138,
   "metadata": {},
   "outputs": [],
   "source": [
    "'''\n",
    "selecting data from 2000 to 4000 cm-1\n",
    "'''\n",
    "\n",
    "def wn_select(data, lo, hi):\n",
    "    pts = []\n",
    "    for i in np.arange(len(data)):\n",
    "        if lo <= data[i][0] <= hi:\n",
    "            if len(data[i]) >= 3:\n",
    "                pt = (data[i][0],data[i][1],data[i][2])\n",
    "            else:\n",
    "                pt = (data[i][0],data[i][1],0)\n",
    "            pts.append(pt)\n",
    "    return pts"
   ]
  },
  {
   "cell_type": "code",
   "execution_count": 139,
   "metadata": {},
   "outputs": [],
   "source": [
    "lo = 2400.\n",
    "hi = 4000.\n",
    "water_new = wn_select(water, lo, hi)\n",
    "sapphire_new = wn_select(sapphire, lo, hi)\n",
    "gold_new = wn_select(gold, lo, hi)"
   ]
  },
  {
   "cell_type": "code",
   "execution_count": 140,
   "metadata": {},
   "outputs": [],
   "source": [
    "# binning data to find common x-axis\n",
    "def mybin(data, wn_bound1, wn_bound2, step):\n",
    "\n",
    "    warnings.filterwarnings(\"ignore\", 'Mean of empty slice.')\n",
    "    warnings.filterwarnings(\"ignore\", 'invalid value encountered in double_scalar')\n",
    "    \n",
    "    X = [i[0] for i in data]\n",
    "    bins = np.linspace(wn_bound1, wn_bound2, step)\n",
    "    digitized = np.digitize(X, bins)-1\n",
    "    bin_centers = bins + (bins[1]-bins[0])/2\n",
    "\n",
    "    Y = [i[1] for i in data]\n",
    "    Y = np.asarray(Y, dtype='float')\n",
    "    bin_medians = [np.median(Y[digitized == j]) for j in range(len(bins))]\n",
    "    \n",
    "    new = [(bin_centers[i],bin_medians[i]) for i in range(len(bins))]\n",
    "    return new"
   ]
  },
  {
   "cell_type": "code",
   "execution_count": 141,
   "metadata": {},
   "outputs": [],
   "source": [
    "# curve_fitting to find common x_axis\n",
    "'''\n",
    "IMPORTANT: \n",
    "\n",
    "This is just a simple polynomial fit for well-behaved materials\n",
    "within the selected wavenumber range. One may need a better fit\n",
    "if the features are more complex in the desired frequency range.\n",
    "\n",
    "'''\n",
    "def fit_curve(data, zone, degree):\n",
    "    wn = [i[0] for i in data]\n",
    "    n  = [i[1] for i in data]\n",
    "    k  = [i[2] for i in data]\n",
    "\n",
    "    wn_n = np.polyfit(wn, n, degree)\n",
    "    wn_k = np.polyfit(wn, k, degree)\n",
    "    f_n  = np.poly1d(wn_n)\n",
    "    f_k  = np.poly1d(wn_k)\n",
    "\n",
    "    wn_new = zone\n",
    "    n_new  = f_n(wn_new)\n",
    "    k_new  = f_k(wn_new)\n",
    "\n",
    "    plt.subplot(1, 2, 1)\n",
    "    plt.plot(wn, n, 'o', wn_new, n_new)\n",
    "    plt.title('wn vs n')\n",
    "    plt.subplot(1, 2, 2)\n",
    "    plt.plot(wn, k, 'o', wn_new, k_new)\n",
    "    plt.title('wn vs k')\n",
    "\n",
    "    new = [(wn_new[i], n_new[i], k_new[i]) for i in range(len(wn_new))]\n",
    "\n",
    "    return new"
   ]
  },
  {
   "cell_type": "code",
   "execution_count": 142,
   "metadata": {},
   "outputs": [
    {
     "data": {
      "image/png": "[encoded data removed]",
      "text/plain": [
       "<Figure size 432x288 with 2 Axes>"
      ]
     },
     "metadata": {
      "needs_background": "light"
     },
     "output_type": "display_data"
    }
   ],
   "source": [
    "ir_zone = [i[0] for i in water_new]\n",
    "gold_fitted_ir = fit_curve(gold_new, ir_zone, 10)"
   ]
  },
  {
   "cell_type": "code",
   "execution_count": 143,
   "metadata": {},
   "outputs": [
    {
     "data": {
      "image/png": "[encoded data removed]",
      "text/plain": [
       "<Figure size 432x288 with 2 Axes>"
      ]
     },
     "metadata": {
      "needs_background": "light"
     },
     "output_type": "display_data"
    }
   ],
   "source": [
    "sapphire_fitted_ir = fit_curve(sapphire_new, ir_zone, 10)"
   ]
  },
  {
   "cell_type": "code",
   "execution_count": 152,
   "metadata": {},
   "outputs": [
    {
     "data": {
      "text/plain": [
       "Text(0.5, 1.0, 'gold')"
      ]
     },
     "execution_count": 152,
     "metadata": {},
     "output_type": "execute_result"
    },
    {
     "data": {
      "image/png": "[encoded data removed]",
      "text/plain": [
       "<Figure size 432x288 with 2 Axes>"
      ]
     },
     "metadata": {
      "needs_background": "light"
     },
     "output_type": "display_data"
    }
   ],
   "source": [
    "plt.subplot(1, 2, 1)\n",
    "plt.plot([i[0] for i in sapphire], [i[1] for i in sapphire])\n",
    "plt.title('sapphire')\n",
    "plt.subplot(1, 2, 2)\n",
    "plt.plot([i[0] for i in gold], [i[1] for i in gold])\n",
    "plt.title('gold')"
   ]
  },
  {
   "cell_type": "code",
   "execution_count": 145,
   "metadata": {},
   "outputs": [
    {
     "data": {
      "image/png": "[encoded data removed]",
      "text/plain": [
       "<Figure size 432x288 with 2 Axes>"
      ]
     },
     "metadata": {
      "needs_background": "light"
     },
     "output_type": "display_data"
    }
   ],
   "source": [
    "sfg_lo = 10000\n",
    "sfg_hi = 20000\n",
    "sapphire_sfg = wn_select(sapphire, sfg_lo, sfg_hi)\n",
    "\n",
    "vis_wl = 800\n",
    "sfg_zone = [i[0] + to_wn(vis_wl) for i in water_new]\n",
    "sapphire_fitted_sfg = fit_curve(sapphire_sfg, sfg_zone, 10)"
   ]
  },
  {
   "cell_type": "code",
   "execution_count": 146,
   "metadata": {},
   "outputs": [
    {
     "data": {
      "image/png": "[encoded data removed]",
      "text/plain": [
       "<Figure size 432x288 with 2 Axes>"
      ]
     },
     "metadata": {
      "needs_background": "light"
     },
     "output_type": "display_data"
    }
   ],
   "source": [
    "sfg_lo = 10000\n",
    "sfg_hi = 20000\n",
    "gold_sfg = wn_select(gold, sfg_lo, sfg_hi)\n",
    "\n",
    "vis_wl = 800\n",
    "sfg_zone = [i[0] + to_wn(vis_wl) for i in water_new]\n",
    "gold_fitted_sfg = fit_curve(gold_sfg, sfg_zone, 10)"
   ]
  },
  {
   "cell_type": "code",
   "execution_count": 147,
   "metadata": {},
   "outputs": [],
   "source": [
    "sapphire_vis = (12500.0, 1.7601, 0)\n",
    "gold_vis = (12500.0, 0.1885769968431532, 4.705410395614308)\n",
    "water_vis = (12500.0, 1.3290, 0)\n",
    "\n",
    "water_sfg = gold_fitted_sfg\n",
    "water_sfg = [(i[0], 1.33, 0) for i in water_sfg]"
   ]
  },
  {
   "cell_type": "code",
   "execution_count": 148,
   "metadata": {},
   "outputs": [],
   "source": [
    "m1 = (sapphire_fitted_ir, sapphire_vis, sapphire_fitted_sfg)\n",
    "m2 = (gold_fitted_ir, gold_vis, gold_fitted_sfg)\n",
    "m3 = (water_new, water_vis, water_sfg)"
   ]
  },
  {
   "cell_type": "code",
   "execution_count": 149,
   "metadata": {},
   "outputs": [],
   "source": [
    "class opt_cst_lib():\n",
    "    def __init__(self, m1, m2, m3):\n",
    "        self.m1_ir = m1[0]\n",
    "        self.m2_ir = m2[0]\n",
    "        self.m3_ir = m3[0]\n",
    "        self.m1_vis = m1[1]\n",
    "        self.m2_vis = m2[1]\n",
    "        self.m3_vis = m3[1]\n",
    "        self.m1_sfg = m1[2]\n",
    "        self.m2_sfg = m2[2]\n",
    "        self.m3_sfg = m3[2]"
   ]
  },
  {
   "cell_type": "code",
   "execution_count": 150,
   "metadata": {},
   "outputs": [],
   "source": [
    "mylib = opt_cst_lib(m1, m2, m3)"
   ]
  },
  {
   "cell_type": "code",
   "execution_count": 153,
   "metadata": {},
   "outputs": [
    {
     "data": {
      "text/plain": [
       "[(14900.0, 0.1735765164348777, 3.623039840302681),\n",
       " (14950.0, 0.17427621971165763, 3.602350202717844),\n",
       " (15000.0, 0.17503021088572268, 3.58171093538931),\n",
       " (15050.0, 0.175839643214033, 3.561120750856844),\n",
       " (15100.0, 0.17670570803142027, 3.5405783850130774),\n",
       " (15150.0, 0.1776296361319396, 3.5200825971426184),\n",
       " (15200.0, 0.17861269851312045, 3.4996321712758345),\n",
       " (15250.0, 0.17965620792574555, 3.4792259164244115),\n",
       " (15300.0, 0.1807615196335064, 3.4588626679296794),\n",
       " (15340.0, 0.1816912054173372, 3.4426022682575876),\n",
       " (15380.0, 0.1826620764005611, 3.4263680945509805),\n",
       " (15420.0, 0.18367488840897295, 3.410159589135219),\n",
       " (15460.0, 0.18473041657097156, 3.3939762067316224),\n",
       " (15500.0, 0.18582945550616614, 3.3778174145907087),\n",
       " (15540.0, 0.18697281979393665, 3.3616826934671735),\n",
       " (15560.0, 0.18756138405410638, 3.3536242008315185),\n",
       " (15600.0, 0.18877280825762455, 3.3375246422715463),\n",
       " (15640.0, 0.19003068388735755, 3.321447917141768),\n",
       " (15660.0, 0.1906773174268892, 3.3134179698481603),\n",
       " (15680.0, 0.19133589819790586, 3.3053935562368224),\n",
       " (15710.0, 0.1923464207780512, 3.2933671885980402),\n",
       " (15720.0, 0.19268935993198966, 3.2893611059796513),\n",
       " (15740.0, 0.19338447352669164, 3.2813529600377933),\n",
       " (15760.0, 0.19409199969800284, 3.2733501292755136),\n",
       " (15780.0, 0.19481205820784453, 3.2653525613893635),\n",
       " (15800.0, 0.19554477028867723, 3.257360205646819),\n",
       " (15820.0, 0.19629025855584814, 3.2493730122532725),\n",
       " (15840.0, 0.19704864702970326, 3.2413909326694466),\n",
       " (15860.0, 0.19782006117037554, 3.233413919454051),\n",
       " (15880.0, 0.19860462791950795, 3.2254419262799274),\n",
       " (15890.0, 0.19900188356729132, 3.2214577981153525),\n",
       " (15900.0, 0.19940247560589341, 3.217474908195527),\n",
       " (15910.0, 0.19980642032459173, 3.2134932510846284),\n",
       " (15920.0, 0.20021373405143095, 3.2095128214418764),\n",
       " (15940.0, 0.20103853454349974, 3.2015556236958673),\n",
       " (15960.0, 0.20187700981148282, 3.1936032737310143),\n",
       " (15980.0, 0.2027292940794041, 3.185655731540237),\n",
       " (16000.0, 0.20359552306047135, 3.1777129589361266),\n",
       " (16020.0, 0.20447583393649893, 3.169774918865869),\n",
       " (16040.0, 0.20537036539758446, 3.1618415756317972),\n",
       " (16060.0, 0.20627925765660393, 3.153912895145595),\n",
       " (16080.0, 0.20720265233109103, 3.1459888446906916),\n",
       " (16100.0, 0.20814069268305957, 3.13806939329902),\n",
       " (16140.0, 0.2100612906912147, 3.1222441707097914),\n",
       " (16180.0, 0.21204222746570167, 3.106437010411355),\n",
       " (16220.0, 0.21408470315179784, 3.0906477218425152),\n",
       " (16260.0, 0.21618994221995536, 3.074876142622088),\n",
       " (16300.0, 0.2183591935079221, 3.0591221394347485),\n",
       " (16500.0, 0.23021103618606276, 2.98061330036694)]"
      ]
     },
     "execution_count": 153,
     "metadata": {},
     "output_type": "execute_result"
    }
   ],
   "source": [
    "mylib.m2_sfg"
   ]
  },
  {
   "cell_type": "code",
   "execution_count": null,
   "metadata": {},
   "outputs": [],
   "source": []
  }
 ],
 "metadata": {
  "kernelspec": {
   "display_name": "Python 3",
   "language": "python",
   "name": "python3"
  },
  "language_info": {
   "codemirror_mode": {
    "name": "ipython",
    "version": 3
   },
   "file_extension": ".py",
   "mimetype": "text/x-python",
   "name": "python",
   "nbconvert_exporter": "python",
   "pygments_lexer": "ipython3",
   "version": "3.7.6"
  }
 },
 "nbformat": 4,
 "nbformat_minor": 4
}
