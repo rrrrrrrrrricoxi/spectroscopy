{
 "cells": [
  {
   "cell_type": "code",
   "execution_count": 2,
   "metadata": {},
   "outputs": [],
   "source": [
    "import os\n",
    "from matplotlib import pyplot as plt\n",
    "import numpy as np\n",
    "import time as tm\n",
    "import warnings"
   ]
  },
  {
   "cell_type": "code",
   "execution_count": 3,
   "metadata": {},
   "outputs": [],
   "source": [
    "folder_name = 'Data Input'\n",
    "path = f'/Users/ricoxi/Desktop/Coding/Fresnel Factor/{folder_name}'"
   ]
  },
  {
   "cell_type": "code",
   "execution_count": 4,
   "metadata": {},
   "outputs": [
    {
     "name": "stdout",
     "output_type": "stream",
     "text": [
      "Working path changed to \n",
      "/Users/ricoxi/Desktop/Coding/Fresnel Factor/Data Input\n"
     ]
    }
   ],
   "source": [
    "os.chdir(path)\n",
    "print('Working path changed to \\n' + os.getcwd())"
   ]
  },
  {
   "cell_type": "code",
   "execution_count": 5,
   "metadata": {},
   "outputs": [
    {
     "name": "stdout",
     "output_type": "stream",
     "text": [
      "Working data files: \n",
      "\n",
      "\tAu_new.txt\n",
      "\tsapphire_optical.txt\n",
      "\td2o_optical.txt\n",
      "\tgold.txt\n",
      "\tgold_optical.txt\n",
      "\twater_optical.txt\n"
     ]
    }
   ],
   "source": [
    "files = os.listdir()\n",
    "data_files = []\n",
    "for i in files:\n",
    "    if '.txt' in i:\n",
    "        data_files.append(i)\n",
    "print('Working data files: \\n')\n",
    "for i in data_files:\n",
    "    print('\\t'+i)"
   ]
  },
  {
   "cell_type": "code",
   "execution_count": 6,
   "metadata": {},
   "outputs": [],
   "source": [
    "def to_wn(value):\n",
    "    wn = 10 ** 7 / value\n",
    "    return wn\n",
    "\n",
    "def to_wl(value):\n",
    "    wl = 10 ** 7 / value\n",
    "    return wl"
   ]
  },
  {
   "cell_type": "code",
   "execution_count": 40,
   "metadata": {},
   "outputs": [
    {
     "name": "stdout",
     "output_type": "stream",
     "text": [
      "Water optical constants are appended in the list \"water\".\n",
      "Sapphire optical constants are appended in the list \"sapphire\".\n",
      "Gold optical constants are appended in the list \"gold\".\n"
     ]
    }
   ],
   "source": [
    "# Appending water optical constants...\n",
    "\n",
    "wn_water = []\n",
    "# this is n\n",
    "n_water = []\n",
    "# this is k\n",
    "k_water = []\n",
    "\n",
    "with open('d2o_optical.txt', 'r') as f:\n",
    "    for line in f.readlines():\n",
    "        field = line.split(' ')\n",
    "        wn_water.append(float(field[0]))\n",
    "        wn_water.append(float(field[5]))\n",
    "        n_water.append(float(field[2]))\n",
    "        n_water.append(float(field[7]))\n",
    "        k_water.append(float(field[1]))\n",
    "        k_water.append(float(field[6]))\n",
    "\n",
    "# this is a list tuple containing wavenumbers \n",
    "# and their corresponding n,k values\n",
    "water = [(wn_water[i],n_water[i],k_water[i]) for i in np.arange(len(wn_water))]\n",
    "water.sort(key = lambda x: x[0])\n",
    "print('Water optical constants are appended in the list \"water\".')\n",
    "\n",
    "# Appending sapphire optical constants...\n",
    "\n",
    "wl_um = []\n",
    "n_sapphire = []\n",
    "with open('sapphire_optical.txt') as f:\n",
    "    for line in f.readlines():\n",
    "        field = line.split('\\t')\n",
    "        wl_um.append(float(field[0]))\n",
    "        n_sapphire.append(float(field[1]))\n",
    "\n",
    "wl_nm = [i * 1000 for i in wl_um]\n",
    "wn_sapphire = [to_wn(i) for i in wl_nm]\n",
    "# This is a list tuple containing sapphire's optical constants\n",
    "sapphire = [(wn_sapphire[i], n_sapphire[i]) for i in np.arange(len(wn_sapphire))]\n",
    "sapphire.sort(key = lambda x: x[0])\n",
    "print('Sapphire optical constants are appended in the list \"sapphire\".')\n",
    "\n",
    "# Appending gold optical constants...\n",
    "\n",
    "wl_um = []\n",
    "n_gold = []\n",
    "k_gold = []\n",
    "with open('gold_optical.txt') as f:\n",
    "    for line in f.readlines():\n",
    "        field = line.split('\\t')\n",
    "        wl_um.append(float(field[0]))\n",
    "        n_gold.append(float(field[1]))\n",
    "        k_gold.append(float(field[2]))\n",
    "\n",
    "wl_nm = [i * 1000 for i in wl_um]\n",
    "wn_gold = [to_wn(i) for i in wl_nm]\n",
    "gold = [(wn_gold[i],n_gold[i],k_gold[i]) for i in np.arange(len(wn_gold))]\n",
    "gold.sort(key = lambda x: x[0])\n",
    "print('Gold optical constants are appended in the list \"gold\".')"
   ]
  },
  {
   "cell_type": "code",
   "execution_count": 41,
   "metadata": {},
   "outputs": [],
   "source": [
    "'''\n",
    "selecting data from 2000 to 4000 cm-1\n",
    "'''\n",
    "\n",
    "def wn_select(data, lo, hi):\n",
    "    pts = []\n",
    "    for i in np.arange(len(data)):\n",
    "        if lo <= data[i][0] <= hi:\n",
    "            if len(data[i]) >= 3:\n",
    "                pt = (data[i][0],data[i][1],data[i][2])\n",
    "            else:\n",
    "                pt = (data[i][0],data[i][1],0)\n",
    "            pts.append(pt)\n",
    "    return pts"
   ]
  },
  {
   "cell_type": "code",
   "execution_count": 42,
   "metadata": {},
   "outputs": [],
   "source": [
    "lo = 2400.\n",
    "hi = 4000.\n",
    "water_new = wn_select(water, lo, hi)\n",
    "sapphire_new = wn_select(sapphire, lo, hi)\n",
    "gold_new = wn_select(gold, lo, hi)"
   ]
  },
  {
   "cell_type": "code",
   "execution_count": 43,
   "metadata": {},
   "outputs": [],
   "source": [
    "# binning data to find common x-axis\n",
    "def mybin(data, wn_bound1, wn_bound2, step):\n",
    "\n",
    "    warnings.filterwarnings(\"ignore\", 'Mean of empty slice.')\n",
    "    warnings.filterwarnings(\"ignore\", 'invalid value encountered in double_scalar')\n",
    "    \n",
    "    X = [i[0] for i in data]\n",
    "    bins = np.linspace(wn_bound1, wn_bound2, step)\n",
    "    digitized = np.digitize(X, bins)-1\n",
    "    bin_centers = bins + (bins[1]-bins[0])/2\n",
    "\n",
    "    Y = [i[1] for i in data]\n",
    "    Y = np.asarray(Y, dtype='float')\n",
    "    bin_medians = [np.median(Y[digitized == j]) for j in range(len(bins))]\n",
    "    \n",
    "    new = [(bin_centers[i],bin_medians[i]) for i in range(len(bins))]\n",
    "    return new"
   ]
  },
  {
   "cell_type": "code",
   "execution_count": 44,
   "metadata": {},
   "outputs": [],
   "source": [
    "# curve_fitting to find common x_axis\n",
    "'''\n",
    "IMPORTANT: \n",
    "\n",
    "This is just a simple polynomial fit for well-behaved materials\n",
    "within the selected wavenumber range. One may need a better fit\n",
    "if the features are more complex in the desired frequency range.\n",
    "\n",
    "'''\n",
    "def fit_curve(data, zone, degree):\n",
    "    wn = [i[0] for i in data]\n",
    "    n  = [i[1] for i in data]\n",
    "    k  = [i[2] for i in data]\n",
    "\n",
    "    wn_n = np.polyfit(wn, n, degree)\n",
    "    wn_k = np.polyfit(wn, k, degree)\n",
    "    f_n  = np.poly1d(wn_n)\n",
    "    f_k  = np.poly1d(wn_k)\n",
    "\n",
    "    wn_new = zone\n",
    "    n_new  = f_n(wn_new)\n",
    "    k_new  = f_k(wn_new)\n",
    "\n",
    "    plt.subplot(1, 2, 1)\n",
    "    plt.plot(wn, n, 'o', wn_new, n_new)\n",
    "    plt.title('wn vs n')\n",
    "    plt.subplot(1, 2, 2)\n",
    "    plt.plot(wn, k, 'o', wn_new, k_new)\n",
    "    plt.title('wn vs k')\n",
    "\n",
    "    new = [(wn_new[i], n_new[i], k_new[i]) for i in range(len(wn_new))]\n",
    "\n",
    "    return new"
   ]
  },
  {
   "cell_type": "code",
   "execution_count": 45,
   "metadata": {},
   "outputs": [
    {
     "data": {
      "image/png": "[encoded data removed]",
      "text/plain": [
       "<Figure size 432x288 with 2 Axes>"
      ]
     },
     "metadata": {
      "needs_background": "light"
     },
     "output_type": "display_data"
    }
   ],
   "source": [
    "ir_zone = [i[0] for i in water_new]\n",
    "gold_fitted_ir = fit_curve(gold_new, ir_zone, 10)"
   ]
  },
  {
   "cell_type": "code",
   "execution_count": 46,
   "metadata": {},
   "outputs": [
    {
     "data": {
      "image/png": "[encoded data removed]",
      "text/plain": [
       "<Figure size 432x288 with 2 Axes>"
      ]
     },
     "metadata": {
      "needs_background": "light"
     },
     "output_type": "display_data"
    }
   ],
   "source": [
    "sapphire_fitted_ir = fit_curve(sapphire_new, ir_zone, 10)"
   ]
  },
  {
   "cell_type": "code",
   "execution_count": 47,
   "metadata": {},
   "outputs": [
    {
     "data": {
      "text/plain": [
       "Text(0.5, 1.0, 'gold')"
      ]
     },
     "execution_count": 47,
     "metadata": {},
     "output_type": "execute_result"
    },
    {
     "data": {
      "image/png": "[encoded data removed]",
      "text/plain": [
       "<Figure size 432x288 with 2 Axes>"
      ]
     },
     "metadata": {
      "needs_background": "light"
     },
     "output_type": "display_data"
    }
   ],
   "source": [
    "plt.subplot(1, 2, 1)\n",
    "plt.plot([i[0] for i in sapphire], [i[1] for i in sapphire])\n",
    "plt.title('sapphire')\n",
    "plt.subplot(1, 2, 2)\n",
    "plt.plot([i[0] for i in gold], [i[1] for i in gold])\n",
    "plt.title('gold')"
   ]
  },
  {
   "cell_type": "code",
   "execution_count": 31,
   "metadata": {},
   "outputs": [
    {
     "data": {
      "image/png": "[encoded data removed]",
      "text/plain": [
       "<Figure size 432x288 with 2 Axes>"
      ]
     },
     "metadata": {
      "needs_background": "light"
     },
     "output_type": "display_data"
    }
   ],
   "source": [
    "sfg_lo = 10000\n",
    "sfg_hi = 20000\n",
    "sapphire_sfg = wn_select(sapphire, sfg_lo, sfg_hi)\n",
    "\n",
    "vis_wl = 800\n",
    "sfg_zone = [i[0] + to_wn(vis_wl) for i in water_new]\n",
    "sapphire_fitted_sfg = fit_curve(sapphire_sfg, sfg_zone, 10)"
   ]
  },
  {
   "cell_type": "code",
   "execution_count": 32,
   "metadata": {},
   "outputs": [
    {
     "data": {
      "image/png": "[encoded data removed]",
      "text/plain": [
       "<Figure size 432x288 with 2 Axes>"
      ]
     },
     "metadata": {
      "needs_background": "light"
     },
     "output_type": "display_data"
    }
   ],
   "source": [
    "sfg_lo = 10000\n",
    "sfg_hi = 20000\n",
    "gold_sfg = wn_select(gold, sfg_lo, sfg_hi)\n",
    "\n",
    "vis_wl = 800\n",
    "sfg_zone = [i[0] + to_wn(vis_wl) for i in water_new]\n",
    "gold_fitted_sfg = fit_curve(gold_sfg, sfg_zone, 10)"
   ]
  },
  {
   "cell_type": "code",
   "execution_count": 33,
   "metadata": {},
   "outputs": [],
   "source": [
    "sapphire_vis = (12500.0, 1.7601, 0)\n",
    "gold_vis = (12500.0, 0.1885769968431532, 4.705410395614308)\n",
    "water_vis = (12500.0, 1.3290, 0)\n",
    "\n",
    "water_sfg = gold_fitted_sfg\n",
    "water_sfg = [(i[0], 1.33, 0) for i in water_sfg]"
   ]
  },
  {
   "cell_type": "code",
   "execution_count": 34,
   "metadata": {},
   "outputs": [],
   "source": [
    "m1 = (sapphire_fitted_ir, sapphire_vis, sapphire_fitted_sfg)\n",
    "m2 = (gold_fitted_ir, gold_vis, gold_fitted_sfg)\n",
    "m3 = (water_new, water_vis, water_sfg)"
   ]
  },
  {
   "cell_type": "code",
   "execution_count": 35,
   "metadata": {},
   "outputs": [],
   "source": [
    "class opt_cst_lib():\n",
    "    def __init__(self, m1, m2, m3):\n",
    "        self.m1_ir = m1[0]\n",
    "        self.m2_ir = m2[0]\n",
    "        self.m3_ir = m3[0]\n",
    "        self.m1_vis = m1[1]\n",
    "        self.m2_vis = m2[1]\n",
    "        self.m3_vis = m3[1]\n",
    "        self.m1_sfg = m1[2]\n",
    "        self.m2_sfg = m2[2]\n",
    "        self.m3_sfg = m3[2]"
   ]
  },
  {
   "cell_type": "code",
   "execution_count": 36,
   "metadata": {},
   "outputs": [],
   "source": [
    "mylib = opt_cst_lib(m1, m2, m3)"
   ]
  },
  {
   "cell_type": "code",
   "execution_count": 38,
   "metadata": {},
   "outputs": [
    {
     "data": {
      "text/plain": [
       "78"
      ]
     },
     "execution_count": 38,
     "metadata": {},
     "output_type": "execute_result"
    }
   ],
   "source": [
    "len(mylib.m2_sfg)"
   ]
  },
  {
   "cell_type": "code",
   "execution_count": null,
   "metadata": {},
   "outputs": [],
   "source": []
  }
 ],
 "metadata": {
  "kernelspec": {
   "display_name": "Python 3",
   "language": "python",
   "name": "python3"
  },
  "language_info": {
   "codemirror_mode": {
    "name": "ipython",
    "version": 3
   },
   "file_extension": ".py",
   "mimetype": "text/x-python",
   "name": "python",
   "nbconvert_exporter": "python",
   "pygments_lexer": "ipython3",
   "version": "3.7.6"
  }
 },
 "nbformat": 4,
 "nbformat_minor": 4
}
