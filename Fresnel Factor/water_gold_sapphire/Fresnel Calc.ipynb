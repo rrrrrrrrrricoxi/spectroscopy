{
 "cells": [
  {
   "cell_type": "code",
   "execution_count": 3,
   "metadata": {},
   "outputs": [],
   "source": [
    "import os\n",
    "from matplotlib import pyplot as plt\n",
    "import numpy as np\n",
    "import time as tm"
   ]
  },
  {
   "cell_type": "code",
   "execution_count": 16,
   "metadata": {},
   "outputs": [],
   "source": [
    "path = '/Users/ricoxi/Desktop/Coding/Fresnel Factor/water_gold_sapphire'\n",
    "os.chdir(path)\n",
    "import import_ipynb\n",
    "from extract_data2 import mylib"
   ]
  },
  {
   "cell_type": "code",
   "execution_count": 5,
   "metadata": {},
   "outputs": [],
   "source": [
    "def to_wn(value):\n",
    "    wn = 10 ** 7 / value\n",
    "    return wn\n",
    "\n",
    "def to_wl(value):\n",
    "    wl = 10 ** 7 / value\n",
    "    return wl\n",
    "\n",
    "def to_rad(value):\n",
    "    rad = value * np.pi /180\n",
    "    return rad\n",
    "\n",
    "def to_degree(value):\n",
    "    degree = value * 180 / np.pi\n",
    "    return degree\n",
    "\n",
    "def sfg_angle(ir, vis, ir_a, vis_a):\n",
    "    theta = np.arctan((ir * np.sin(ir_a) + vis * np.sin(vis_a))/(\n",
    "    ir * np.cos(ir_a) + vis * np.cos(vis_a)))\n",
    "    return theta\n",
    "\n",
    "def theta_1(n_1, gamma):\n",
    "    θ = np.pi / 3 - np.arcsin(1 * np.sin(np.pi / 3 - gamma)/ n_1 )\n",
    "    return θ\n",
    "\n",
    "def refract(θ_i, ind_i, ind_j):\n",
    "    cos_theta_j = np.sqrt(1 - (ind_i ** 2) / (ind_j ** 2) * (np.sin(θ_i) ** 2))\n",
    "    theta_j = np.arccos(cos_theta_j)\n",
    "    return theta_j "
   ]
  },
  {
   "cell_type": "code",
   "execution_count": 6,
   "metadata": {},
   "outputs": [],
   "source": [
    "# list of IR wn of which the final output will be plotted against\n",
    "IR_wn = [mylib.m1_ir[i][0] for i in range(len(mylib.m1_ir))]\n",
    "IR_wl = [to_wl(mylib.m1_ir[i][0]) for i in range(len(mylib.m1_ir))]\n",
    "# visible beam centered at\n",
    "vis_wl = 800.\n",
    "vis_wn = to_wn(vis_wl)\n",
    "# list of sfg wn\n",
    "sfg_wn = [IR_wn[i] + vis_wn for i in range(len(IR_wn))]\n",
    "sfg_wl = [to_wn(i) for i in sfg_wn]\n",
    "# thickness of gold\n",
    "d_gold = 5\n",
    "'''\n",
    "input IR and vis 𝜸 angles here\n",
    "'''\n",
    "𝜸 = 22\n",
    "𝜸_IR  = to_rad(𝜸)\n",
    "𝜸_vis = to_rad(𝜸)"
   ]
  },
  {
   "cell_type": "code",
   "execution_count": 7,
   "metadata": {},
   "outputs": [],
   "source": [
    "'''\n",
    "m1 = SAPPHIRE\n",
    "m2 = GOLD\n",
    "m3 = WATER\n",
    "'''\n",
    "\n",
    "ind_1_IR = [complex(i[1],i[2]) for i in mylib.m1_ir]\n",
    "ind_2_IR = [complex(i[1],i[2]) for i in mylib.m2_ir]\n",
    "ind_3_IR = [complex(i[1],i[2]) for i in mylib.m3_ir]\n",
    "\n",
    "ind_1_vis = complex(mylib.m1_vis[1],mylib.m1_vis[2])\n",
    "ind_2_vis = complex(mylib.m2_vis[1],mylib.m2_vis[2])\n",
    "ind_3_vis = complex(mylib.m3_vis[1],mylib.m3_vis[2])\n",
    "\n",
    "ind_1_sfg = [complex(i[1],i[2]) for i in mylib.m1_sfg]\n",
    "ind_2_sfg = [complex(i[1],i[2]) for i in mylib.m2_sfg]\n",
    "ind_3_sfg = [complex(i[1],i[2]) for i in mylib.m3_sfg]"
   ]
  },
  {
   "cell_type": "code",
   "execution_count": 8,
   "metadata": {},
   "outputs": [],
   "source": [
    "'''\n",
    "All the angles in the world\n",
    "'''\n",
    "θ_1_IR = [theta_1(i, 𝜸_IR) for i in ind_1_IR]\n",
    "θ_2_IR = [refract(i[0], i[1], i[2]) for i in zip(θ_1_IR, ind_1_IR, ind_2_IR)]\n",
    "θ_3_IR = [refract(i[0], i[1], i[2]) for i in zip(θ_2_IR, ind_2_IR, ind_3_IR)]\n",
    "\n",
    "θ_1_vis = theta_1(ind_1_vis, 𝜸_vis)\n",
    "θ_2_vis = refract(θ_1_vis, ind_1_vis, ind_2_vis)\n",
    "θ_3_vis = refract(θ_2_vis, ind_2_vis, ind_3_vis)\n",
    "\n",
    "θ_1_sfg = [sfg_angle(i[0], vis_wn, i[1], θ_1_vis) for i in zip(IR_wn, θ_1_IR)]\n",
    "θ_2_sfg = [refract(i[0], i[1], i[2]) for i in zip(θ_1_sfg, ind_1_sfg, ind_2_sfg)]"
   ]
  },
  {
   "cell_type": "code",
   "execution_count": 15,
   "metadata": {},
   "outputs": [
    {
     "data": {
      "text/plain": [
       "array([38.33661181+0.j, 38.34742019+0.j, 38.35806967+0.j, 38.36856348+0.j,\n",
       "       38.37890475+0.j, 38.38909655+0.j, 38.39413734+0.j, 38.39914187+0.j,\n",
       "       38.40411051+0.j, 38.40904361+0.j, 38.4188046 +0.j, 38.42842761+0.j,\n",
       "       38.43791534+0.j, 38.44260929+0.j, 38.4472704 +0.j, 38.45649536+0.j,\n",
       "       38.46559272+0.j, 38.48341431+0.j, 38.50075395+0.j, 38.50924866+0.j,\n",
       "       38.51762953+0.j, 38.52589866+0.j, 38.5340581 +0.j, 38.54210986+0.j,\n",
       "       38.5500559 +0.j, 38.55789814+0.j, 38.56563843+0.j, 38.57327862+0.j,\n",
       "       38.58082047+0.j, 38.58826575+0.j, 38.59561615+0.j, 38.60287333+0.j,\n",
       "       38.61003893+0.j, 38.61711454+0.j, 38.62410172+0.j, 38.63100199+0.j,\n",
       "       38.63781683+0.j, 38.64454771+0.j, 38.65776324+0.j, 38.67065961+0.j,\n",
       "       38.68324738+0.j, 38.69553669+0.j, 38.70753723+0.j, 38.7192583 +0.j,\n",
       "       38.73070882+0.j, 38.74189736+0.j, 38.76352102+0.j, 38.78419119+0.j,\n",
       "       38.79418675+0.j, 38.80396504+0.j, 38.81353253+0.j, 38.82289545+0.j,\n",
       "       38.8320598 +0.j, 38.85413934+0.j, 38.875098  +0.j, 38.89501301+0.j,\n",
       "       38.91395496+0.j, 38.93198846+0.j, 38.94917278+0.j, 38.96556237+0.j,\n",
       "       38.98120731+0.j, 38.99615375+0.j, 39.01044429+0.j, 39.02411827+0.j,\n",
       "       39.03721211+0.j, 39.04975955+0.j, 39.0617919 +0.j, 39.07333822+0.j,\n",
       "       39.07782677+0.j, 39.08224355+0.j, 39.08442552+0.j, 39.08659014+0.j,\n",
       "       39.087666  +0.j, 39.0887376 +0.j, 39.08980495+0.j, 39.09086808+0.j,\n",
       "       39.09507889+0.j, 39.10532158+0.j])"
      ]
     },
     "execution_count": 15,
     "metadata": {},
     "output_type": "execute_result"
    }
   ],
   "source": [
    "to_degree(np.asarray(θ_1_IR))"
   ]
  },
  {
   "cell_type": "code",
   "execution_count": 9,
   "metadata": {},
   "outputs": [],
   "source": [
    "def r_ij_p(n_i, n_j, theta_i, theta_j):\n",
    "    r = (n_j * np.cos(theta_i) - n_i * np.cos(theta_j)) / (n_j * np.cos(theta_i) + n_i * np.cos(theta_j))\n",
    "    return r\n",
    "\n",
    "def r_ij_s(n_i, n_j, theta_i, theta_j):\n",
    "    r = (n_i * np.cos(theta_i) - n_j * np.cos(theta_j)) / (n_i * np.cos(theta_i) + n_j * np.cos(theta_j))\n",
    "    return r\n",
    "\n",
    "def t_ij_p(n_i, n_j, theta_i, theta_j):\n",
    "    t = (2 * n_i * np.cos(theta_i)) / (n_j * np.cos(theta_i) + n_i * np.cos(theta_j))\n",
    "    return t\n",
    "\n",
    "def t_ij_s(n_i, n_j, theta_i, theta_j):\n",
    "    t = (2 * n_i * np.cos(theta_i)) / (n_i * np.cos(theta_i) + n_j * np.cos(theta_j))\n",
    "    return t\n",
    "\n",
    "# =========================================== #\n",
    "def beta(wavelength, n_2, thickness, theta_2):\n",
    "    β = 2 * np.pi / wavelength * n_2 * thickness * np.cos(theta_2)\n",
    "    return β\n",
    "\n",
    "def delta_ir(ir_wl, vis_wl, n_1_ir, n_2_ir, thickness, theta_1_ir, theta_2_ir, theta_2_sfg):\n",
    "    Δ = (2 * np.pi * n_2_ir * thickness) / (ir_wl * np.cos(theta_2_ir)) - (2 * np.pi * n_1_ir * thickness) / vis_wl * (np.tan(theta_2_ir) + np.tan(theta_2_sfg)) * np.sin(theta_1_ir)\n",
    "    return Δ\n",
    "\n",
    "# =========================================== #\n",
    "def L_II_xx(delta, t_12_p, r_12_p, r_23_p, beta, theta_2, theta_1):\n",
    "    L = np.e ** (1j * delta) * (t_12_p) / (1 + r_12_p * r_23_p * np.e **(2 * 1j * beta)) * (1 - r_23_p) * np.cos(theta_2) / np.cos(theta_1)\n",
    "    return L\n",
    "\n",
    "# =========================================== #\n",
    "def check(r, t, n_1, theta_1, n_2, theta_2):\n",
    "    R = r * r.conjugate()\n",
    "    T = t * t.conjugate() * (n_2 * np.cos(theta_2)) / (n_1 * np.cos(theta_1))\n",
    "    return T + R"
   ]
  },
  {
   "cell_type": "code",
   "execution_count": 10,
   "metadata": {},
   "outputs": [],
   "source": [
    "β_ir = [beta(i[0], i[1], d_gold, i[2]) for i in zip(IR_wl, ind_2_IR, θ_2_IR)]\n",
    "\n",
    "Δ_ir = [delta_ir(i[0], vis_wl, i[1], i[2], d_gold, i[3], i[4], i[5])\n",
    "       for i in zip(IR_wl, ind_1_IR, ind_2_IR, θ_1_IR, θ_2_IR, θ_2_sfg)]\n",
    "\n",
    "# =========================================== #\n",
    "r_12_p_ir = [r_ij_p(i[0], i[1], i[2], i[3]) \n",
    "             for i in zip(ind_1_IR, ind_2_IR, θ_1_IR, θ_2_IR)]\n",
    "t_12_p_ir = [t_ij_p(i[0], i[1], i[2], i[3]) \n",
    "             for i in zip(ind_1_IR, ind_2_IR, θ_1_IR, θ_2_IR)]\n",
    "r_23_p_ir = [r_ij_p(i[0], i[1], i[2], i[3]) \n",
    "             for i in zip(ind_2_IR, ind_3_IR, θ_2_IR, θ_3_IR)]\n",
    "\n",
    "# =========================================== #\n",
    "L_II_xx_ir = [L_II_xx(i[0],i[1],i[2],i[3],i[4],i[5],i[6]) \n",
    "              for i in zip(Δ_ir, t_12_p_ir, r_12_p_ir, r_23_p_ir, β_ir, θ_2_IR, θ_1_IR)]\n",
    "L_II_xx_ir_sq = [i * i.conjugate() for i in L_II_xx_ir]"
   ]
  },
  {
   "cell_type": "code",
   "execution_count": 11,
   "metadata": {},
   "outputs": [
    {
     "name": "stdout",
     "output_type": "stream",
     "text": [
      "\n",
      "Input gamma is 22 degrees.\n",
      "\n"
     ]
    },
    {
     "data": {
      "image/png": "[encoded data removed]",
      "text/plain": [
       "<Figure size 432x288 with 1 Axes>"
      ]
     },
     "metadata": {
      "needs_background": "light"
     },
     "output_type": "display_data"
    }
   ],
   "source": [
    "plt.figure(figsize=(6,4))\n",
    "plt.plot(IR_wn, [i.real for i in L_II_xx_ir_sq], linewidth = 2.5)\n",
    "plt.ylim(0, 4)\n",
    "plt.ylabel('$|L\\u2093\\u2093|^2$', fontsize=14)\n",
    "plt.xlabel('wn [cm-1]',fontsize=14)\n",
    "plt.xlim(2400,3900)\n",
    "plt.title('\\nIR Fresnel factor for H\\u2082O\\n')\n",
    "print(f'\\nInput gamma is {𝜸} degrees.\\n')"
   ]
  },
  {
   "cell_type": "code",
   "execution_count": 12,
   "metadata": {},
   "outputs": [],
   "source": [
    "check_12_ir = [check(i[0], i[1], i[2], i[3], i[4], i[5]) for i in zip(r_12_p_ir, t_12_p_ir, ind_1_IR, θ_1_IR, ind_2_IR, θ_2_IR)]"
   ]
  },
  {
   "cell_type": "code",
   "execution_count": null,
   "metadata": {},
   "outputs": [],
   "source": []
  },
  {
   "cell_type": "code",
   "execution_count": null,
   "metadata": {},
   "outputs": [],
   "source": []
  }
 ],
 "metadata": {
  "kernelspec": {
   "display_name": "Python 3",
   "language": "python",
   "name": "python3"
  },
  "language_info": {
   "codemirror_mode": {
    "name": "ipython",
    "version": 3
   },
   "file_extension": ".py",
   "mimetype": "text/x-python",
   "name": "python",
   "nbconvert_exporter": "python",
   "pygments_lexer": "ipython3",
   "version": "3.7.6"
  }
 },
 "nbformat": 4,
 "nbformat_minor": 4
}
