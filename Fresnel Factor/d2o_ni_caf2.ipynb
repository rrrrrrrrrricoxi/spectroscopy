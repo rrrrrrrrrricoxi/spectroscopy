{
 "cells": [
  {
   "cell_type": "code",
   "execution_count": 1,
   "metadata": {},
   "outputs": [],
   "source": [
    "import os\n",
    "from matplotlib import pyplot as plt\n",
    "import numpy as np\n",
    "import time as tm\n",
    "import warnings"
   ]
  },
  {
   "cell_type": "code",
   "execution_count": 2,
   "metadata": {},
   "outputs": [],
   "source": [
    "folder_name = 'Data Input'\n",
    "path = f'/Users/ricoxi/Desktop/Coding/Fresnel Factor/{folder_name}'"
   ]
  },
  {
   "cell_type": "code",
   "execution_count": 3,
   "metadata": {},
   "outputs": [
    {
     "name": "stdout",
     "output_type": "stream",
     "text": [
      "Working path changed to \n",
      "/Users/ricoxi/Desktop/Coding/Fresnel Factor/Data Input\n"
     ]
    }
   ],
   "source": [
    "os.chdir(path)\n",
    "print('Working path changed to \\n' + os.getcwd())"
   ]
  },
  {
   "cell_type": "code",
   "execution_count": 4,
   "metadata": {},
   "outputs": [
    {
     "name": "stdout",
     "output_type": "stream",
     "text": [
      "Working data files: \n",
      "\n",
      "\tcaf2_optical.txt\n",
      "\tAu_new.txt\n",
      "\tnickel_optical.txt\n",
      "\tsapphire_optical.txt\n",
      "\td2o_optical.txt\n",
      "\tgold.txt\n",
      "\tgold_optical.txt\n",
      "\twater_optical.txt\n",
      "\th2o_1973.txt\n"
     ]
    }
   ],
   "source": [
    "files = os.listdir()\n",
    "data_files = []\n",
    "for i in files:\n",
    "    if '.txt' in i:\n",
    "        data_files.append(i)\n",
    "print('Working data files: \\n')\n",
    "for i in data_files:\n",
    "    print('\\t'+i)"
   ]
  },
  {
   "cell_type": "code",
   "execution_count": 5,
   "metadata": {},
   "outputs": [],
   "source": [
    "def to_wn(value):\n",
    "    wn = 10 ** 7 / value\n",
    "    return wn\n",
    "\n",
    "def to_wl(value):\n",
    "    wl = 10 ** 7 / value\n",
    "    return wl"
   ]
  },
  {
   "cell_type": "code",
   "execution_count": 6,
   "metadata": {},
   "outputs": [
    {
     "name": "stdout",
     "output_type": "stream",
     "text": [
      "Water optical constants are appended in the list \"water\".\n",
      "caf2 optical constants are appended in the list \"caf2\".\n",
      "Nickel optical constants are appended in the list \"nickel\".\n"
     ]
    }
   ],
   "source": [
    "# Appending water optical constants...\n",
    "\n",
    "wn_water = []\n",
    "# this is n\n",
    "n_water = []\n",
    "# this is k\n",
    "k_water = []\n",
    "\n",
    "with open('d2o_optical.txt', 'r') as f:\n",
    "    for line in f.readlines()[1:]:\n",
    "        field = line.split(' ')\n",
    "        wn_water.append(float(field[0]))\n",
    "        wn_water.append(float(field[5]))\n",
    "        n_water.append(float(field[2]))\n",
    "        n_water.append(float(field[7]))\n",
    "        k_water.append(float(field[1]))\n",
    "        k_water.append(float(field[6]))\n",
    "\n",
    "# this is a list tuple containing wavenumbers \n",
    "# and their corresponding n,k values\n",
    "water = [(wn_water[i],n_water[i],k_water[i]) for i in np.arange(len(wn_water))]\n",
    "water.sort(key = lambda x: x[0])\n",
    "print('Water optical constants are appended in the list \"water\".')\n",
    "\n",
    "# Appending CaF2 optical constants...\n",
    "\n",
    "wl_um = []\n",
    "n_caf2 = []\n",
    "with open('caf2_optical.txt') as f:\n",
    "    for line in f.readlines():\n",
    "        field = line.split('\\t')\n",
    "        wl_um.append(float(field[0]))\n",
    "        n_caf2.append(float(field[1]))\n",
    "\n",
    "wl_nm = [i * 1000 for i in wl_um]\n",
    "wn_caf2 = [to_wn(i) for i in wl_nm]\n",
    "# This is a list tuple containing caf2's optical constants\n",
    "caf2 = [(wn_caf2[i], n_caf2[i]) for i in np.arange(len(wn_caf2))]\n",
    "caf2.sort(key = lambda x: x[0])\n",
    "print('caf2 optical constants are appended in the list \"caf2\".')\n",
    "\n",
    "# Appending nickel optical constants...\n",
    "\n",
    "wl_um = []\n",
    "n_nickel = []\n",
    "k_nickel = []\n",
    "with open('nickel_optical.txt') as f:\n",
    "    for line in f.readlines():\n",
    "        field = line.split('\\t')\n",
    "        wl_um.append(float(field[0]))\n",
    "        n_nickel.append(float(field[1]))\n",
    "        k_nickel.append(float(field[2]))\n",
    "\n",
    "wl_nm = [i * 1000 for i in wl_um]\n",
    "wn_nickel = [to_wn(i) for i in wl_nm]\n",
    "nickel = [(wn_nickel[i],n_nickel[i],k_nickel[i]) for i in np.arange(len(wn_nickel))]\n",
    "nickel.sort(key = lambda x: x[0])\n",
    "print('Nickel optical constants are appended in the list \"nickel\".')"
   ]
  },
  {
   "cell_type": "code",
   "execution_count": 7,
   "metadata": {},
   "outputs": [],
   "source": [
    "'''\n",
    "selecting data from 2000 to 4000 cm-1\n",
    "'''\n",
    "\n",
    "def wn_select(data, lo, hi):\n",
    "    pts = []\n",
    "    for i in np.arange(len(data)):\n",
    "        if lo <= data[i][0] <= hi:\n",
    "            if len(data[i]) >= 3:\n",
    "                pt = (data[i][0],data[i][1],data[i][2])\n",
    "            else:\n",
    "                pt = (data[i][0],data[i][1],0)\n",
    "            pts.append(pt)\n",
    "    return pts"
   ]
  },
  {
   "cell_type": "code",
   "execution_count": 8,
   "metadata": {},
   "outputs": [],
   "source": [
    "lo = 2400.\n",
    "hi = 4000.\n",
    "water_new = wn_select(water, lo, hi)\n",
    "caf2_new = wn_select(caf2, lo, hi)\n",
    "nickel_new = wn_select(nickel, lo, hi)"
   ]
  },
  {
   "cell_type": "code",
   "execution_count": 9,
   "metadata": {},
   "outputs": [],
   "source": [
    "# curve_fitting to find common x_axis\n",
    "'''\n",
    "IMPORTANT: \n",
    "\n",
    "This is just a simple polynomial fit for well-behaved materials\n",
    "within the selected wavenumber range. One may need a better fit\n",
    "if the features are more complex in the desired frequency range.\n",
    "\n",
    "'''\n",
    "def fit_curve(data, zone, degree):\n",
    "    wn = [i[0] for i in data]\n",
    "    n  = [i[1] for i in data]\n",
    "    k  = [i[2] for i in data]\n",
    "\n",
    "    wn_n = np.polyfit(wn, n, degree)\n",
    "    wn_k = np.polyfit(wn, k, degree)\n",
    "    f_n  = np.poly1d(wn_n)\n",
    "    f_k  = np.poly1d(wn_k)\n",
    "\n",
    "    wn_new = zone\n",
    "    n_new  = f_n(wn_new)\n",
    "    k_new  = f_k(wn_new)\n",
    "\n",
    "    plt.subplot(1, 2, 1)\n",
    "    plt.plot(wn, n, 'o', wn_new, n_new)\n",
    "    plt.title('wn vs n')\n",
    "    plt.subplot(1, 2, 2)\n",
    "    plt.plot(wn, k, 'o', wn_new, k_new)\n",
    "    plt.title('wn vs k')\n",
    "\n",
    "    new = [(wn_new[i], n_new[i], k_new[i]) for i in range(len(wn_new))]\n",
    "\n",
    "    return new"
   ]
  },
  {
   "cell_type": "code",
   "execution_count": 10,
   "metadata": {},
   "outputs": [
    {
     "data": {
      "image/png": "[encoded data removed]",
      "text/plain": [
       "<Figure size 432x288 with 2 Axes>"
      ]
     },
     "metadata": {
      "needs_background": "light"
     },
     "output_type": "display_data"
    }
   ],
   "source": [
    "ir_zone = [i[0] for i in water_new]\n",
    "nickel_fitted_ir = fit_curve(nickel_new, ir_zone, 10)"
   ]
  },
  {
   "cell_type": "code",
   "execution_count": 11,
   "metadata": {},
   "outputs": [
    {
     "data": {
      "text/plain": [
       "[<matplotlib.lines.Line2D at 0x7fa1b0b46fd0>]"
      ]
     },
     "execution_count": 11,
     "metadata": {},
     "output_type": "execute_result"
    },
    {
     "data": {
      "image/png": "[encoded data removed]",
      "text/plain": [
       "<Figure size 432x288 with 1 Axes>"
      ]
     },
     "metadata": {
      "needs_background": "light"
     },
     "output_type": "display_data"
    }
   ],
   "source": [
    "plt.plot([i[0] for i in water_new],[i[1] for i in water_new])"
   ]
  },
  {
   "cell_type": "code",
   "execution_count": 12,
   "metadata": {},
   "outputs": [
    {
     "data": {
      "image/png": "[encoded data removed]",
      "text/plain": [
       "<Figure size 432x288 with 2 Axes>"
      ]
     },
     "metadata": {
      "needs_background": "light"
     },
     "output_type": "display_data"
    }
   ],
   "source": [
    "caf2_fitted_ir = fit_curve(caf2_new, ir_zone, 10)"
   ]
  },
  {
   "cell_type": "code",
   "execution_count": 13,
   "metadata": {},
   "outputs": [
    {
     "data": {
      "text/plain": [
       "(0, 50000)"
      ]
     },
     "execution_count": 13,
     "metadata": {},
     "output_type": "execute_result"
    },
    {
     "data": {
      "image/png": "[encoded data removed]",
      "text/plain": [
       "<Figure size 432x288 with 2 Axes>"
      ]
     },
     "metadata": {
      "needs_background": "light"
     },
     "output_type": "display_data"
    }
   ],
   "source": [
    "plt.subplot(1, 2, 1)\n",
    "plt.plot([i[0] for i in caf2], [i[1] for i in caf2])\n",
    "plt.title('caf2')\n",
    "plt.subplot(1, 2, 2)\n",
    "plt.plot([i[0] for i in nickel], [i[1] for i in nickel])\n",
    "plt.title('nickel')\n",
    "plt.xlim(0, 50000)"
   ]
  },
  {
   "cell_type": "code",
   "execution_count": 14,
   "metadata": {},
   "outputs": [
    {
     "data": {
      "image/png": "[encoded data removed]",
      "text/plain": [
       "<Figure size 432x288 with 2 Axes>"
      ]
     },
     "metadata": {
      "needs_background": "light"
     },
     "output_type": "display_data"
    }
   ],
   "source": [
    "sfg_lo = 10000\n",
    "sfg_hi = 20000\n",
    "caf2_sfg = wn_select(caf2, sfg_lo, sfg_hi)\n",
    "\n",
    "vis_wl = 800\n",
    "sfg_zone = [i[0] + to_wn(vis_wl) for i in water_new]\n",
    "caf2_fitted_sfg = fit_curve(caf2_sfg, sfg_zone, 10)"
   ]
  },
  {
   "cell_type": "code",
   "execution_count": 15,
   "metadata": {},
   "outputs": [
    {
     "data": {
      "image/png": "[encoded data removed]",
      "text/plain": [
       "<Figure size 432x288 with 2 Axes>"
      ]
     },
     "metadata": {
      "needs_background": "light"
     },
     "output_type": "display_data"
    }
   ],
   "source": [
    "sfg_lo = 10000\n",
    "sfg_hi = 20000\n",
    "nickel_sfg = wn_select(nickel, sfg_lo, sfg_hi)\n",
    "\n",
    "vis_wl = 800\n",
    "sfg_zone = [i[0] + to_wn(vis_wl) for i in water_new]\n",
    "nickel_fitted_sfg = fit_curve(nickel_sfg, sfg_zone, 10)"
   ]
  },
  {
   "cell_type": "code",
   "execution_count": 16,
   "metadata": {},
   "outputs": [],
   "source": [
    "caf2_vis = (12500.0, 1.4305, 0)\n",
    "nickel_vis = (12500.0, 0.1885769968431532, 4.705410395614308)\n",
    "water_vis = (12500.0, 1.3290, 0)\n",
    "\n",
    "water_sfg = caf2_fitted_sfg\n",
    "water_sfg = [(i[0], 1.33, 0) for i in water_sfg]"
   ]
  },
  {
   "cell_type": "code",
   "execution_count": 17,
   "metadata": {},
   "outputs": [
    {
     "data": {
      "text/plain": [
       "800.0"
      ]
     },
     "execution_count": 17,
     "metadata": {},
     "output_type": "execute_result"
    }
   ],
   "source": [
    "to_wl(12500)"
   ]
  },
  {
   "cell_type": "code",
   "execution_count": 18,
   "metadata": {},
   "outputs": [],
   "source": [
    "m1 = (caf2_fitted_ir, caf2_vis, caf2_fitted_sfg)\n",
    "m2 = (nickel_fitted_ir, nickel_vis, nickel_fitted_sfg)\n",
    "m3 = (water_new, water_vis, water_sfg)"
   ]
  },
  {
   "cell_type": "code",
   "execution_count": 19,
   "metadata": {},
   "outputs": [],
   "source": [
    "class opt_cst_lib():\n",
    "    def __init__(self, m1, m2, m3):\n",
    "        self.m1_ir = m1[0]\n",
    "        self.m2_ir = m2[0]\n",
    "        self.m3_ir = m3[0]\n",
    "        self.m1_vis = m1[1]\n",
    "        self.m2_vis = m2[1]\n",
    "        self.m3_vis = m3[1]\n",
    "        self.m1_sfg = m1[2]\n",
    "        self.m2_sfg = m2[2]\n",
    "        self.m3_sfg = m3[2]"
   ]
  },
  {
   "cell_type": "code",
   "execution_count": 21,
   "metadata": {},
   "outputs": [],
   "source": [
    "mylib = opt_cst_lib(m1, m2, m3)"
   ]
  },
  {
   "cell_type": "code",
   "execution_count": 23,
   "metadata": {},
   "outputs": [
    {
     "data": {
      "text/plain": [
       "77"
      ]
     },
     "execution_count": 23,
     "metadata": {},
     "output_type": "execute_result"
    }
   ],
   "source": [
    "len(mylib.m1_ir)"
   ]
  },
  {
   "cell_type": "code",
   "execution_count": null,
   "metadata": {},
   "outputs": [],
   "source": []
  }
 ],
 "metadata": {
  "kernelspec": {
   "display_name": "Python 3",
   "language": "python",
   "name": "python3"
  },
  "language_info": {
   "codemirror_mode": {
    "name": "ipython",
    "version": 3
   },
   "file_extension": ".py",
   "mimetype": "text/x-python",
   "name": "python",
   "nbconvert_exporter": "python",
   "pygments_lexer": "ipython3",
   "version": "3.7.6"
  }
 },
 "nbformat": 4,
 "nbformat_minor": 4
}
